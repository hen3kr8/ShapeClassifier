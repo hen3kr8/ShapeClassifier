{
 "cells": [
  {
   "cell_type": "code",
   "execution_count": 3,
   "metadata": {},
   "outputs": [],
   "source": [
    "import sklearn as sk\n",
    "import numpy as np\n",
    "import matplotlib.pyplot as plt\n",
    "from skimage.io import imread_collection\n",
    "import os\n",
    "import sys"
   ]
  },
  {
   "cell_type": "code",
   "execution_count": 2,
   "metadata": {},
   "outputs": [
    {
     "name": "stdout",
     "output_type": "stream",
     "text": [
      "error, lib not available\n"
     ]
    }
   ],
   "source": [
    "try:\n",
    "    import tensorflow as tf\n",
    "    from tensorflow import keras\n",
    "except:\n",
    "    print('error, lib not available')"
   ]
  },
  {
   "cell_type": "code",
   "execution_count": 43,
   "metadata": {},
   "outputs": [
    {
     "name": "stdout",
     "output_type": "stream",
     "text": [
      "(2062, 10)\n",
      "(2062, 64, 64)\n",
      "<class 'numpy.ndarray'>\n",
      "label 0 : 204\n",
      "label 1 : 205\n",
      "label 2 : 206\n",
      "label 3 : 207\n",
      "label 4 : 206\n",
      "label 5 : 208\n",
      "label 6 : 207\n",
      "label 7 : 206\n",
      "label 8 : 206\n",
      "label 9 : 206\n"
     ]
    }
   ],
   "source": [
    "X_train = np.load('/home/hendri/KaggleSets/sign-language-digits-dataset (1)/Sign-language-digits-dataset/X.npy')\n",
    "Y_train = np.load('/home/hendri/KaggleSets/sign-language-digits-dataset (1)/Sign-language-digits-dataset/Y.npy')\n",
    "\n",
    "print(Y_train.shape)\n",
    "print(X_train.shape)\n",
    "print(type(Y_train))\n",
    "# 2062 images, each 64 x 64\n",
    "#images have been normalized\n",
    "\n",
    "train_size = 150\n",
    "test_size = 25\n",
    "num_labels = 10\n",
    "\n",
    "X_list = np.zeros(num_labels* train_size)\n",
    "X_list = X_list.reshape(num_labels,train_size)\n",
    "X_list2 = X_list.reshape(num_labels*train_size)\n",
    "\n",
    "# Ar_len = np.zeros(num_labels)\n",
    "Ar_len = np.zeros(num_labels, dtype=int).reshape(num_labels, 1)\n",
    "\n",
    "c = 0\n",
    "t = 0\n",
    "for i in range(len(Y_train)):\n",
    "    if Y_train[i][c] != 1:\n",
    "        t = i - t\n",
    "        Ar_len[c] = t \n",
    "        print(\"label \" + str(c) + \" : \" + str(t))\n",
    "        c += 1\n",
    "        t = i\n",
    "    \n",
    "t = i - t\n",
    "Ar_len[c] = t \n",
    "\n",
    "print(\"label \" + str(c) + \" : \" + str(t))\n"
   ]
  },
  {
   "cell_type": "code",
   "execution_count": 45,
   "metadata": {},
   "outputs": [
    {
     "name": "stdout",
     "output_type": "stream",
     "text": [
      "(10, 1)\n",
      "<class 'numpy.ndarray'>\n",
      "<class 'numpy.int64'>\n",
      "204\n"
     ]
    },
    {
     "ename": "ValueError",
     "evalue": "setting an array element with a sequence.",
     "output_type": "error",
     "traceback": [
      "\u001b[0;31m---------------------------------------------------------------------------\u001b[0m",
      "\u001b[0;31mValueError\u001b[0m                                Traceback (most recent call last)",
      "\u001b[0;32m<ipython-input-45-39f97f949bc4>\u001b[0m in \u001b[0;36m<module>\u001b[0;34m()\u001b[0m\n\u001b[1;32m     10\u001b[0m \u001b[0;31m#         if typb == v :\u001b[0m\u001b[0;34m\u001b[0m\u001b[0;34m\u001b[0m\u001b[0;34m\u001b[0m\u001b[0m\n\u001b[1;32m     11\u001b[0m \u001b[0;31m#             print('true')\u001b[0m\u001b[0;34m\u001b[0m\u001b[0;34m\u001b[0m\u001b[0;34m\u001b[0m\u001b[0m\n\u001b[0;32m---> 12\u001b[0;31m         \u001b[0mX_list\u001b[0m\u001b[0;34m[\u001b[0m\u001b[0mi\u001b[0m\u001b[0;34m]\u001b[0m\u001b[0;34m[\u001b[0m\u001b[0mj\u001b[0m\u001b[0;34m]\u001b[0m \u001b[0;34m=\u001b[0m \u001b[0mX_train\u001b[0m\u001b[0;34m[\u001b[0m\u001b[0mb\u001b[0m\u001b[0;34m]\u001b[0m\u001b[0;34m\u001b[0m\u001b[0;34m\u001b[0m\u001b[0m\n\u001b[0m",
      "\u001b[0;31mValueError\u001b[0m: setting an array element with a sequence."
     ]
    }
   ],
   "source": [
    "print(Ar_len.shape)\n",
    "print(type(X_list))\n",
    "\n",
    "for i in range(0,10):\n",
    "    for j in range(150):\n",
    "        v = Ar_len[i][0]\n",
    "        print(type(v))\n",
    "        b = j + v\n",
    "        print(b)\n",
    "#         if typb == v :\n",
    "#             print('true')\n",
    "        X_list[i][j] = X_train[b]"
   ]
  },
  {
   "cell_type": "code",
   "execution_count": null,
   "metadata": {},
   "outputs": [],
   "source": []
  },
  {
   "cell_type": "code",
   "execution_count": null,
   "metadata": {},
   "outputs": [],
   "source": []
  },
  {
   "cell_type": "code",
   "execution_count": null,
   "metadata": {},
   "outputs": [],
   "source": []
  },
  {
   "cell_type": "code",
   "execution_count": null,
   "metadata": {},
   "outputs": [],
   "source": []
  },
  {
   "cell_type": "code",
   "execution_count": null,
   "metadata": {},
   "outputs": [],
   "source": []
  },
  {
   "cell_type": "code",
   "execution_count": null,
   "metadata": {},
   "outputs": [],
   "source": []
  },
  {
   "cell_type": "code",
   "execution_count": null,
   "metadata": {},
   "outputs": [],
   "source": []
  },
  {
   "cell_type": "code",
   "execution_count": null,
   "metadata": {},
   "outputs": [],
   "source": []
  }
 ],
 "metadata": {
  "kernelspec": {
   "display_name": "Python 3",
   "language": "python",
   "name": "python3"
  },
  "language_info": {
   "codemirror_mode": {
    "name": "ipython",
    "version": 3
   },
   "file_extension": ".py",
   "mimetype": "text/x-python",
   "name": "python",
   "nbconvert_exporter": "python",
   "pygments_lexer": "ipython3",
   "version": "3.6.7"
  }
 },
 "nbformat": 4,
 "nbformat_minor": 2
}
