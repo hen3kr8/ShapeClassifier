{
 "cells": [
  {
   "cell_type": "raw",
   "metadata": {},
   "source": [
    "A very basic triangle/ circle classifier using logistic regression\n",
    "data found on https://www.kaggle.com/smeschke/four-shapes"
   ]
  },
  {
   "cell_type": "code",
   "execution_count": 1,
   "metadata": {},
   "outputs": [],
   "source": [
    "import sklearn as sk\n",
    "import numpy as np\n",
    "import matplotlib.pyplot as plt\n",
    "from skimage.io import imread_collection\n",
    "import os\n",
    "import sys"
   ]
  },
  {
   "cell_type": "code",
   "execution_count": 2,
   "metadata": {},
   "outputs": [
    {
     "name": "stdout",
     "output_type": "stream",
     "text": [
      "801\n",
      "801\n"
     ]
    }
   ],
   "source": [
    "circ_dir = 'data/circle/*.png'\n",
    "tri_dir = 'data/triangle/*.png'\n",
    "square_dir = 'data/square/*.png'\n",
    "    \n",
    "#creating a collection with the available images\n",
    "circ_col = imread_collection(circ_dir)\n",
    "tri_col = imread_collection(tri_dir)\n",
    "square_col = imread_collection(square_dir)"
   ]
  },
  {
   "cell_type": "code",
   "execution_count": 3,
   "metadata": {},
   "outputs": [],
   "source": [
    "X_train = np.concatenate((circ_col[0:500], tri_col[0:500]), axis = 0)"
   ]
  },
  {
   "cell_type": "code",
   "execution_count": 4,
   "metadata": {},
   "outputs": [],
   "source": [
    "#0 = circle\n",
    "#1 = tri\n",
    "#2 = square\n",
    "train_size = 500\n",
    "num_classes = 2\n",
    "circ_label = np.zeros(train_size, dtype = int)\n",
    "tri_label = np.ones(train_size, dtype = int)\n",
    "square_label = np.full(train_size,2)\n",
    "\n",
    "Y_train = np.concatenate((circ_label, tri_label), axis = 0)"
   ]
  },
  {
   "cell_type": "code",
   "execution_count": 5,
   "metadata": {},
   "outputs": [],
   "source": [
    "#test data\n",
    "test_size = 50\n",
    "X_test = np.concatenate((circ_col[600:600 + test_size], tri_col[600:600 + test_size]), axis = 0)\n",
    "\n",
    "circ_label_test = np.zeros(test_size)\n",
    "tri_label_test = np.ones(test_size)\n",
    "square_label_test = np.full(test_size,2)\n",
    "\n",
    "Y_test = np.concatenate((circ_label_test, tri_label_test), axis = 0)"
   ]
  },
  {
   "cell_type": "code",
   "execution_count": 6,
   "metadata": {},
   "outputs": [],
   "source": [
    "# shuffle the data \n",
    "test_shuf = np.concatenate((circ_col[700:705], tri_col[700:705]), axis = 0)\n",
    "np.random.shuffle(test_shuf)\n",
    "display_im = test_shuf"
   ]
  },
  {
   "cell_type": "code",
   "execution_count": 7,
   "metadata": {},
   "outputs": [],
   "source": [
    "def flatten_data(size, num_classes, X_array):\n",
    "    X_flat = X_array.reshape(size*num_classes, X_array.shape[1]*X_array.shape[2])\n",
    "    return X_flat.T"
   ]
  },
  {
   "cell_type": "code",
   "execution_count": 8,
   "metadata": {},
   "outputs": [],
   "source": [
    "X_train = flatten_data(train_size, num_classes, X_train)\n",
    "X_test = flatten_data(test_size, num_classes, X_test)"
   ]
  },
  {
   "cell_type": "code",
   "execution_count": 9,
   "metadata": {},
   "outputs": [],
   "source": [
    "#flatten data\n",
    "\n",
    "X_square = square_col[30:40]\n",
    "X_square = np.asarray(X_square)\n",
    "X_square = flatten_data(X_square.shape[0], 1, X_square)\n",
    "\n",
    "test_shuf = flatten_data(test_shuf.shape[0], 1, test_shuf)\n",
    "\n",
    "#normalize data\n",
    "# new val = (old val- min)/(max-min)\n",
    "# min = 0, max = 255\n",
    "X_train = X_train/255.0\n",
    "X_test = X_test/255.0\n",
    "test_shuf = test_shuf/255.0"
   ]
  },
  {
   "cell_type": "code",
   "execution_count": 10,
   "metadata": {},
   "outputs": [],
   "source": [
    "#every column is an image"
   ]
  },
  {
   "cell_type": "code",
   "execution_count": 11,
   "metadata": {},
   "outputs": [],
   "source": [
    "def init_weights_bias(dim):\n",
    "    w = np.full((dim,1), 0.01)\n",
    "    b = 0.0\n",
    "    return w,b\n",
    "\n",
    "def sigmoid(z):\n",
    "    y_h = 1/(1+np.exp(-z))\n",
    "    return y_h"
   ]
  },
  {
   "cell_type": "code",
   "execution_count": 12,
   "metadata": {},
   "outputs": [],
   "source": [
    "scaling_factor = 1000"
   ]
  },
  {
   "cell_type": "code",
   "execution_count": 13,
   "metadata": {},
   "outputs": [],
   "source": [
    "# mean square error\n",
    "def loss_func(y_train, y_pred):\n",
    "    loss = (y_train - y_pred)**2\n",
    "    cost = np.sum(loss)*1/y_train.shape[0]\n",
    "    return cost"
   ]
  },
  {
   "cell_type": "code",
   "execution_count": 14,
   "metadata": {},
   "outputs": [],
   "source": [
    "def forw_prop(w,b,x_train, y_train):\n",
    "    z = np.dot(w.T,x_train) + b\n",
    "    y_pred = sigmoid(z)\n",
    "#     loss = -y_train*np.log(y_head)-(1-y_train)*np.log(1-y_head)\n",
    "    cost = loss_func(y_train, y_pred)\n",
    "    der_weight = (np.dot(x_train, (y_pred - y_train).T))/scaling_factor\n",
    "    der_bias = np.sum(y_pred- y_train)/scaling_factor\n",
    "    \n",
    "    return cost, der_weight, der_bias"
   ]
  },
  {
   "cell_type": "code",
   "execution_count": 15,
   "metadata": {},
   "outputs": [],
   "source": [
    "def update_weights(old_weight, old_bias, der_weight, der_bias, learning_rate):\n",
    "    #back prop\n",
    "    new_weight =  old_weight - learning_rate*der_weight\n",
    "    new_bias = old_bias - learning_rate*der_bias\n",
    "    #update parameters\n",
    "    return new_weight, new_bias"
   ]
  },
  {
   "cell_type": "code",
   "execution_count": 16,
   "metadata": {},
   "outputs": [],
   "source": [
    "def main(learning_rate, num_iterations):\n",
    "    dim = X_train.shape[0]\n",
    "    w_main, b_main = init_weights_bias(dim)\n",
    "    \n",
    "    for i in range(0, num_iterations):\n",
    "        cost, d_weight, d_bias = forw_prop(w_main, b_main, X_train, Y_train)\n",
    "        w_main, w_bias = update_weights(w_main, b_main, d_weight, d_bias, learning_rate)\n",
    "#         print(i)\n",
    "        if i %10 == 0:\n",
    "            print(\"cost after \" + str(i) + \" is \" + str(cost))\n",
    "            \n",
    "    return w_main,b_main"
   ]
  },
  {
   "cell_type": "code",
   "execution_count": 17,
   "metadata": {},
   "outputs": [],
   "source": [
    "def predict(w,b, x_test):\n",
    "    z = sigmoid(np.dot(w.T, x_test) + b)\n",
    "    y_pred = np.zeros(x_test.shape[1])\n",
    "    for i in range(0, x_test.shape[1]):\n",
    "        if z[0][i] > 0.5 :\n",
    "            y_pred[i] = 1\n",
    "        else:\n",
    "            y_pred[i] = 0\n",
    "    return y_pred "
   ]
  },
  {
   "cell_type": "code",
   "execution_count": 18,
   "metadata": {},
   "outputs": [],
   "source": [
    "def log_reg(x_train, y_train, x_test, y_test, learning_rate, num_it):\n",
    "    w, b = main(1,100)\n",
    "    final_w = w\n",
    "    final_b = b\n",
    "#     print(\"w \" + str(w))\n",
    "    \n",
    "    return predict(w,b, x_test), w,b"
   ]
  },
  {
   "cell_type": "code",
   "execution_count": 19,
   "metadata": {},
   "outputs": [
    {
     "name": "stdout",
     "output_type": "stream",
     "text": [
      "cost after 0 is 0.5\n"
     ]
    },
    {
     "name": "stderr",
     "output_type": "stream",
     "text": [
      "/usr/lib/python3/dist-packages/ipykernel_launcher.py:7: RuntimeWarning: overflow encountered in exp\n",
      "  import sys\n"
     ]
    },
    {
     "name": "stdout",
     "output_type": "stream",
     "text": [
      "cost after 10 is 0.5\n",
      "cost after 20 is 4.693318163587766e-53\n",
      "cost after 30 is 4.693318163587766e-53\n",
      "cost after 40 is 4.693318163587766e-53\n",
      "cost after 50 is 4.693318163587766e-53\n",
      "cost after 60 is 4.693318163587766e-53\n",
      "cost after 70 is 4.693318163587766e-53\n",
      "cost after 80 is 4.693318163587766e-53\n",
      "cost after 90 is 4.693318163587766e-53\n"
     ]
    },
    {
     "data": {
      "text/plain": [
       "100.0"
      ]
     },
     "execution_count": 19,
     "metadata": {},
     "output_type": "execute_result"
    }
   ],
   "source": [
    "y_pred, w, b = log_reg(X_train, Y_train, X_test, Y_test, 1, 100)\n",
    "#accuracy:\n",
    "100 - np.mean(np.abs(y_pred-Y_test))"
   ]
  },
  {
   "cell_type": "code",
   "execution_count": 20,
   "metadata": {},
   "outputs": [
    {
     "ename": "NameError",
     "evalue": "name 'X_square' is not defined",
     "output_type": "error",
     "traceback": [
      "\u001b[0;31m---------------------------------------------------------------------------\u001b[0m",
      "\u001b[0;31mNameError\u001b[0m                                 Traceback (most recent call last)",
      "\u001b[0;32m<ipython-input-20-fc28dfc819c2>\u001b[0m in \u001b[0;36m<module>\u001b[0;34m()\u001b[0m\n\u001b[1;32m      1\u001b[0m \u001b[0;31m#test with random image\u001b[0m\u001b[0;34m\u001b[0m\u001b[0;34m\u001b[0m\u001b[0;34m\u001b[0m\u001b[0m\n\u001b[0;32m----> 2\u001b[0;31m \u001b[0msquare_test\u001b[0m \u001b[0;34m=\u001b[0m \u001b[0mpredict\u001b[0m\u001b[0;34m(\u001b[0m\u001b[0mw\u001b[0m\u001b[0;34m,\u001b[0m \u001b[0mb\u001b[0m\u001b[0;34m,\u001b[0m \u001b[0mX_square\u001b[0m\u001b[0;34m)\u001b[0m\u001b[0;34m\u001b[0m\u001b[0;34m\u001b[0m\u001b[0m\n\u001b[0m\u001b[1;32m      3\u001b[0m \u001b[0;31m#classidies all squares as triangles\u001b[0m\u001b[0;34m\u001b[0m\u001b[0;34m\u001b[0m\u001b[0;34m\u001b[0m\u001b[0m\n",
      "\u001b[0;31mNameError\u001b[0m: name 'X_square' is not defined"
     ]
    }
   ],
   "source": [
    "#test with random image\n",
    "square_test = predict(w, b, X_square)\n",
    "#classidies all squares as triangles"
   ]
  },
  {
   "cell_type": "code",
   "execution_count": null,
   "metadata": {},
   "outputs": [],
   "source": [
    "tri_col_shuf_test = predict(w, b, test_shuf)"
   ]
  },
  {
   "cell_type": "code",
   "execution_count": null,
   "metadata": {},
   "outputs": [],
   "source": [
    "print(tri_col_shuf_test)\n",
    "#compare to shapes printed out above, accuracy is 100%\n",
    "# 0 = circle\n",
    "# 1 = triangle"
   ]
  },
  {
   "cell_type": "code",
   "execution_count": null,
   "metadata": {},
   "outputs": [],
   "source": [
    "for i in display_im:\n",
    "    plt.figure()\n",
    "    plt.imshow(i)"
   ]
  },
  {
   "cell_type": "code",
   "execution_count": null,
   "metadata": {},
   "outputs": [],
   "source": [
    "#Verdict: Too little variation/noise in training data."
   ]
  }
 ],
 "metadata": {
  "kernelspec": {
   "display_name": "Python 3",
   "language": "python",
   "name": "python3"
  },
  "language_info": {
   "codemirror_mode": {
    "name": "ipython",
    "version": 3
   },
   "file_extension": ".py",
   "mimetype": "text/x-python",
   "name": "python",
   "nbconvert_exporter": "python",
   "pygments_lexer": "ipython3",
   "version": "3.6.8"
  }
 },
 "nbformat": 4,
 "nbformat_minor": 2
}
